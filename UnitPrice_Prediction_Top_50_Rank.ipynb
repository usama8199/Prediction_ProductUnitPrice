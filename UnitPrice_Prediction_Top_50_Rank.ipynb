{
 "cells": [
  {
   "cell_type": "code",
   "execution_count": 3,
   "metadata": {},
   "outputs": [],
   "source": [
    "import numpy as np\n",
    "import pandas as pd\n",
    "import matplotlib.pyplot as plt\n",
    "import seaborn as sns"
   ]
  },
  {
   "cell_type": "markdown",
   "metadata": {},
   "source": [
    "# Data Cleaning"
   ]
  },
  {
   "cell_type": "code",
   "execution_count": 4,
   "metadata": {},
   "outputs": [],
   "source": [
    "df=pd.read_csv(\"Train.csv\")"
   ]
  },
  {
   "cell_type": "code",
   "execution_count": 5,
   "metadata": {},
   "outputs": [],
   "source": [
    "df1=pd.read_csv(\"Test.csv\")"
   ]
  },
  {
   "cell_type": "code",
   "execution_count": 6,
   "metadata": {},
   "outputs": [
    {
     "name": "stdout",
     "output_type": "stream",
     "text": [
      "<class 'pandas.core.frame.DataFrame'>\n",
      "RangeIndex: 122049 entries, 0 to 122048\n",
      "Data columns (total 7 columns):\n",
      "InvoiceNo      122049 non-null int64\n",
      "StockCode      122049 non-null int64\n",
      "Description    122049 non-null int64\n",
      "Quantity       122049 non-null int64\n",
      "InvoiceDate    122049 non-null object\n",
      "CustomerID     122049 non-null float64\n",
      "Country        122049 non-null int64\n",
      "dtypes: float64(1), int64(5), object(1)\n",
      "memory usage: 6.5+ MB\n"
     ]
    }
   ],
   "source": [
    "df1.info()"
   ]
  },
  {
   "cell_type": "code",
   "execution_count": 7,
   "metadata": {},
   "outputs": [],
   "source": [
    "df.drop_duplicates(inplace=True)"
   ]
  },
  {
   "cell_type": "code",
   "execution_count": 8,
   "metadata": {},
   "outputs": [],
   "source": [
    "df['first_2_CID']=df['CustomerID'].apply(lambda x: int(str(x)[:2]))   # extract the first two number of the customerid\n",
    "df1['first_2_CID']=df1['CustomerID'].apply(lambda x: int(str(x)[:2])) #feature extrzction"
   ]
  },
  {
   "cell_type": "code",
   "execution_count": 9,
   "metadata": {},
   "outputs": [
    {
     "data": {
      "text/html": [
       "<div>\n",
       "<style scoped>\n",
       "    .dataframe tbody tr th:only-of-type {\n",
       "        vertical-align: middle;\n",
       "    }\n",
       "\n",
       "    .dataframe tbody tr th {\n",
       "        vertical-align: top;\n",
       "    }\n",
       "\n",
       "    .dataframe thead th {\n",
       "        text-align: right;\n",
       "    }\n",
       "</style>\n",
       "<table border=\"1\" class=\"dataframe\">\n",
       "  <thead>\n",
       "    <tr style=\"text-align: right;\">\n",
       "      <th></th>\n",
       "      <th>InvoiceNo</th>\n",
       "      <th>StockCode</th>\n",
       "      <th>Description</th>\n",
       "      <th>Quantity</th>\n",
       "      <th>InvoiceDate</th>\n",
       "      <th>UnitPrice</th>\n",
       "      <th>CustomerID</th>\n",
       "      <th>Country</th>\n",
       "      <th>first_2_CID</th>\n",
       "    </tr>\n",
       "  </thead>\n",
       "  <tbody>\n",
       "    <tr>\n",
       "      <th>0</th>\n",
       "      <td>6141</td>\n",
       "      <td>1583</td>\n",
       "      <td>144</td>\n",
       "      <td>3</td>\n",
       "      <td>2011-05-06 16:54:00</td>\n",
       "      <td>3.75</td>\n",
       "      <td>14056.0</td>\n",
       "      <td>35</td>\n",
       "      <td>14</td>\n",
       "    </tr>\n",
       "    <tr>\n",
       "      <th>1</th>\n",
       "      <td>6349</td>\n",
       "      <td>1300</td>\n",
       "      <td>3682</td>\n",
       "      <td>6</td>\n",
       "      <td>2011-05-11 07:35:00</td>\n",
       "      <td>1.95</td>\n",
       "      <td>13098.0</td>\n",
       "      <td>35</td>\n",
       "      <td>13</td>\n",
       "    </tr>\n",
       "    <tr>\n",
       "      <th>2</th>\n",
       "      <td>16783</td>\n",
       "      <td>2178</td>\n",
       "      <td>1939</td>\n",
       "      <td>4</td>\n",
       "      <td>2011-11-20 13:20:00</td>\n",
       "      <td>5.95</td>\n",
       "      <td>15044.0</td>\n",
       "      <td>35</td>\n",
       "      <td>15</td>\n",
       "    </tr>\n",
       "    <tr>\n",
       "      <th>3</th>\n",
       "      <td>16971</td>\n",
       "      <td>2115</td>\n",
       "      <td>2983</td>\n",
       "      <td>1</td>\n",
       "      <td>2011-11-22 12:07:00</td>\n",
       "      <td>0.83</td>\n",
       "      <td>15525.0</td>\n",
       "      <td>35</td>\n",
       "      <td>15</td>\n",
       "    </tr>\n",
       "    <tr>\n",
       "      <th>4</th>\n",
       "      <td>6080</td>\n",
       "      <td>1210</td>\n",
       "      <td>2886</td>\n",
       "      <td>12</td>\n",
       "      <td>2011-05-06 09:00:00</td>\n",
       "      <td>1.65</td>\n",
       "      <td>13952.0</td>\n",
       "      <td>35</td>\n",
       "      <td>13</td>\n",
       "    </tr>\n",
       "  </tbody>\n",
       "</table>\n",
       "</div>"
      ],
      "text/plain": [
       "   InvoiceNo  StockCode  Description  Quantity          InvoiceDate  \\\n",
       "0       6141       1583          144         3  2011-05-06 16:54:00   \n",
       "1       6349       1300         3682         6  2011-05-11 07:35:00   \n",
       "2      16783       2178         1939         4  2011-11-20 13:20:00   \n",
       "3      16971       2115         2983         1  2011-11-22 12:07:00   \n",
       "4       6080       1210         2886        12  2011-05-06 09:00:00   \n",
       "\n",
       "   UnitPrice  CustomerID  Country  first_2_CID  \n",
       "0       3.75     14056.0       35           14  \n",
       "1       1.95     13098.0       35           13  \n",
       "2       5.95     15044.0       35           15  \n",
       "3       0.83     15525.0       35           15  \n",
       "4       1.65     13952.0       35           13  "
      ]
     },
     "execution_count": 9,
     "metadata": {},
     "output_type": "execute_result"
    }
   ],
   "source": [
    "df.head() #there are no null values"
   ]
  },
  {
   "cell_type": "code",
   "execution_count": 10,
   "metadata": {},
   "outputs": [
    {
     "name": "stdout",
     "output_type": "stream",
     "text": [
      "<class 'pandas.core.frame.DataFrame'>\n",
      "Int64Index: 282159 entries, 0 to 284779\n",
      "Data columns (total 9 columns):\n",
      "InvoiceNo      282159 non-null int64\n",
      "StockCode      282159 non-null int64\n",
      "Description    282159 non-null int64\n",
      "Quantity       282159 non-null int64\n",
      "InvoiceDate    282159 non-null object\n",
      "UnitPrice      282159 non-null float64\n",
      "CustomerID     282159 non-null float64\n",
      "Country        282159 non-null int64\n",
      "first_2_CID    282159 non-null int64\n",
      "dtypes: float64(2), int64(6), object(1)\n",
      "memory usage: 21.5+ MB\n"
     ]
    }
   ],
   "source": [
    "df.info()"
   ]
  },
  {
   "cell_type": "code",
   "execution_count": 11,
   "metadata": {},
   "outputs": [],
   "source": [
    "df[\"InvoiceDate\"]=pd.to_datetime(df[\"InvoiceDate\"])\n",
    "df1[\"InvoiceDate\"]=pd.to_datetime(df1[\"InvoiceDate\"]) #change to date type"
   ]
  },
  {
   "cell_type": "code",
   "execution_count": 12,
   "metadata": {},
   "outputs": [],
   "source": [
    "df[\"InvoiceDateO\"]=df[\"InvoiceDate\"].apply(lambda x: x.toordinal())\n",
    "df1[\"InvoiceDateO\"]=df1[\"InvoiceDate\"].apply(lambda x: x.toordinal()) #change date to ordinal data"
   ]
  },
  {
   "cell_type": "code",
   "execution_count": 13,
   "metadata": {},
   "outputs": [
    {
     "data": {
      "text/plain": [
       "20971"
      ]
     },
     "execution_count": 13,
     "metadata": {},
     "output_type": "execute_result"
    }
   ],
   "source": [
    "df.InvoiceNo.nunique()"
   ]
  },
  {
   "cell_type": "code",
   "execution_count": 14,
   "metadata": {},
   "outputs": [],
   "source": [
    "#df=df.sort_values(\"StockCode\")"
   ]
  },
  {
   "cell_type": "code",
   "execution_count": 15,
   "metadata": {},
   "outputs": [],
   "source": [
    "#df[df[\"InvoiceDate\"].dt.month==12]"
   ]
  },
  {
   "cell_type": "code",
   "execution_count": 16,
   "metadata": {},
   "outputs": [
    {
     "name": "stdout",
     "output_type": "stream",
     "text": [
      "<class 'pandas.core.frame.DataFrame'>\n",
      "Int64Index: 282159 entries, 0 to 284779\n",
      "Data columns (total 10 columns):\n",
      "InvoiceNo       282159 non-null int64\n",
      "StockCode       282159 non-null int64\n",
      "Description     282159 non-null int64\n",
      "Quantity        282159 non-null int64\n",
      "InvoiceDate     282159 non-null datetime64[ns]\n",
      "UnitPrice       282159 non-null float64\n",
      "CustomerID      282159 non-null float64\n",
      "Country         282159 non-null int64\n",
      "first_2_CID     282159 non-null int64\n",
      "InvoiceDateO    282159 non-null int64\n",
      "dtypes: datetime64[ns](1), float64(2), int64(7)\n",
      "memory usage: 23.7 MB\n"
     ]
    }
   ],
   "source": [
    "df.info() #all data type is now correct"
   ]
  },
  {
   "cell_type": "code",
   "execution_count": 17,
   "metadata": {},
   "outputs": [],
   "source": [
    "#pd.set_option(\"display.max_rows\", None, \"display.max_columns\", None)"
   ]
  },
  {
   "cell_type": "code",
   "execution_count": 18,
   "metadata": {},
   "outputs": [],
   "source": [
    "#df1[df1['Country']==35]"
   ]
  },
  {
   "cell_type": "code",
   "execution_count": 19,
   "metadata": {},
   "outputs": [
    {
     "data": {
      "image/png": "[encoded data removed]",
      "text/plain": [
       "<Figure size 432x288 with 1 Axes>"
      ]
     },
     "metadata": {
      "needs_background": "light"
     },
     "output_type": "display_data"
    },
    {
     "data": {
      "image/png": "[encoded data removed]",
      "text/plain": [
       "<Figure size 432x288 with 1 Axes>"
      ]
     },
     "metadata": {
      "needs_background": "light"
     },
     "output_type": "display_data"
    },
    {
     "data": {
      "image/png": "[encoded data removed]",
      "text/plain": [
       "<Figure size 432x288 with 1 Axes>"
      ]
     },
     "metadata": {
      "needs_background": "light"
     },
     "output_type": "display_data"
    },
    {
     "data": {
      "image/png": "[encoded data removed]",
      "text/plain": [
       "<Figure size 432x288 with 1 Axes>"
      ]
     },
     "metadata": {
      "needs_background": "light"
     },
     "output_type": "display_data"
    },
    {
     "data": {
      "image/png": "[encoded data removed]",
      "text/plain": [
       "<Figure size 432x288 with 1 Axes>"
      ]
     },
     "metadata": {
      "needs_background": "light"
     },
     "output_type": "display_data"
    },
    {
     "data": {
      "image/png": "[encoded data removed]",
      "text/plain": [
       "<Figure size 432x288 with 1 Axes>"
      ]
     },
     "metadata": {
      "needs_background": "light"
     },
     "output_type": "display_data"
    },
    {
     "data": {
      "image/png": "[encoded data removed]",
      "text/plain": [
       "<Figure size 432x288 with 1 Axes>"
      ]
     },
     "metadata": {
      "needs_background": "light"
     },
     "output_type": "display_data"
    },
    {
     "data": {
      "image/png": "[encoded data removed]",
      "text/plain": [
       "<Figure size 432x288 with 1 Axes>"
      ]
     },
     "metadata": {
      "needs_background": "light"
     },
     "output_type": "display_data"
    }
   ],
   "source": [
    "for i in df[['InvoiceNo', 'StockCode', 'Description', 'Quantity',\n",
    "       'UnitPrice', 'CustomerID', 'Country','InvoiceDateO']].columns:\n",
    "    sns.boxplot(df[i])\n",
    "    plt.show() #check for outliers \n",
    "#looks like quantity and unitprice has some outliers"
   ]
  },
  {
   "cell_type": "code",
   "execution_count": 20,
   "metadata": {},
   "outputs": [
    {
     "data": {
      "text/html": [
       "<div>\n",
       "<style scoped>\n",
       "    .dataframe tbody tr th:only-of-type {\n",
       "        vertical-align: middle;\n",
       "    }\n",
       "\n",
       "    .dataframe tbody tr th {\n",
       "        vertical-align: top;\n",
       "    }\n",
       "\n",
       "    .dataframe thead th {\n",
       "        text-align: right;\n",
       "    }\n",
       "</style>\n",
       "<table border=\"1\" class=\"dataframe\">\n",
       "  <thead>\n",
       "    <tr style=\"text-align: right;\">\n",
       "      <th></th>\n",
       "      <th>InvoiceNo</th>\n",
       "      <th>StockCode</th>\n",
       "      <th>Description</th>\n",
       "      <th>Quantity</th>\n",
       "      <th>InvoiceDate</th>\n",
       "      <th>UnitPrice</th>\n",
       "      <th>CustomerID</th>\n",
       "      <th>Country</th>\n",
       "      <th>first_2_CID</th>\n",
       "      <th>InvoiceDateO</th>\n",
       "    </tr>\n",
       "  </thead>\n",
       "  <tbody>\n",
       "    <tr>\n",
       "      <th>140723</th>\n",
       "      <td>20237</td>\n",
       "      <td>3681</td>\n",
       "      <td>2140</td>\n",
       "      <td>-1</td>\n",
       "      <td>2011-06-10 15:31:00</td>\n",
       "      <td>38970.00</td>\n",
       "      <td>15098.0</td>\n",
       "      <td>35</td>\n",
       "      <td>15</td>\n",
       "      <td>734298</td>\n",
       "    </tr>\n",
       "    <tr>\n",
       "      <th>239556</th>\n",
       "      <td>19848</td>\n",
       "      <td>3683</td>\n",
       "      <td>2624</td>\n",
       "      <td>-1</td>\n",
       "      <td>2011-05-03 12:51:00</td>\n",
       "      <td>8142.75</td>\n",
       "      <td>16029.0</td>\n",
       "      <td>35</td>\n",
       "      <td>16</td>\n",
       "      <td>734260</td>\n",
       "    </tr>\n",
       "  </tbody>\n",
       "</table>\n",
       "</div>"
      ],
      "text/plain": [
       "        InvoiceNo  StockCode  Description  Quantity         InvoiceDate  \\\n",
       "140723      20237       3681         2140        -1 2011-06-10 15:31:00   \n",
       "239556      19848       3683         2624        -1 2011-05-03 12:51:00   \n",
       "\n",
       "        UnitPrice  CustomerID  Country  first_2_CID  InvoiceDateO  \n",
       "140723   38970.00     15098.0       35           15        734298  \n",
       "239556    8142.75     16029.0       35           16        734260  "
      ]
     },
     "execution_count": 20,
     "metadata": {},
     "output_type": "execute_result"
    }
   ],
   "source": [
    "df[df[\"UnitPrice\"]>5000]"
   ]
  },
  {
   "cell_type": "code",
   "execution_count": 21,
   "metadata": {},
   "outputs": [],
   "source": [
    "#df[df['InvoiceDateO']==734298]"
   ]
  },
  {
   "cell_type": "code",
   "execution_count": 22,
   "metadata": {},
   "outputs": [],
   "source": [
    "#df.drop(labels=[239556],inplace=True)"
   ]
  },
  {
   "cell_type": "markdown",
   "metadata": {},
   "source": [
    "### Using this value because the data is randomly selected in for training and testing so this can be used for trees based algorithm you will know more which algorithm is suitable at the bottom"
   ]
  },
  {
   "cell_type": "code",
   "execution_count": 23,
   "metadata": {},
   "outputs": [],
   "source": [
    "df.drop(df[df[\"UnitPrice\"]>10000].index,inplace=True) \n",
    "#df.reset_index(drop=True,inplace=True)"
   ]
  },
  {
   "cell_type": "code",
   "execution_count": 24,
   "metadata": {},
   "outputs": [],
   "source": [
    "#df[df[\"UnitPrice\"]==0]"
   ]
  },
  {
   "cell_type": "code",
   "execution_count": 25,
   "metadata": {},
   "outputs": [],
   "source": [
    "#df1[df1['Quantity']<0] #quantity cannot be negative it could be a grabage or the quantity is by mistake negative"
   ]
  },
  {
   "cell_type": "code",
   "execution_count": 26,
   "metadata": {},
   "outputs": [],
   "source": [
    "df['Quantity']=df['Quantity'].abs()\n",
    "df1['Quantity']=df1['Quantity'].abs() #quantity has negative which is invalid and also they are not garbage value \n",
    "#converting them to positive"
   ]
  },
  {
   "cell_type": "code",
   "execution_count": 27,
   "metadata": {},
   "outputs": [],
   "source": [
    "#df.drop(df[df[\"Quantity\"]>10000].index,inplace=True) #10k"
   ]
  },
  {
   "cell_type": "code",
   "execution_count": 28,
   "metadata": {},
   "outputs": [
    {
     "name": "stdout",
     "output_type": "stream",
     "text": [
      "<class 'pandas.core.frame.DataFrame'>\n",
      "Int64Index: 282158 entries, 0 to 284779\n",
      "Data columns (total 10 columns):\n",
      "InvoiceNo       282158 non-null int64\n",
      "StockCode       282158 non-null int64\n",
      "Description     282158 non-null int64\n",
      "Quantity        282158 non-null int64\n",
      "InvoiceDate     282158 non-null datetime64[ns]\n",
      "UnitPrice       282158 non-null float64\n",
      "CustomerID      282158 non-null float64\n",
      "Country         282158 non-null int64\n",
      "first_2_CID     282158 non-null int64\n",
      "InvoiceDateO    282158 non-null int64\n",
      "dtypes: datetime64[ns](1), float64(2), int64(7)\n",
      "memory usage: 23.7 MB\n"
     ]
    }
   ],
   "source": [
    "df.info()"
   ]
  },
  {
   "cell_type": "code",
   "execution_count": 29,
   "metadata": {},
   "outputs": [
    {
     "data": {
      "text/html": [
       "<div>\n",
       "<style scoped>\n",
       "    .dataframe tbody tr th:only-of-type {\n",
       "        vertical-align: middle;\n",
       "    }\n",
       "\n",
       "    .dataframe tbody tr th {\n",
       "        vertical-align: top;\n",
       "    }\n",
       "\n",
       "    .dataframe thead th {\n",
       "        text-align: right;\n",
       "    }\n",
       "</style>\n",
       "<table border=\"1\" class=\"dataframe\">\n",
       "  <thead>\n",
       "    <tr style=\"text-align: right;\">\n",
       "      <th></th>\n",
       "      <th>InvoiceNo</th>\n",
       "      <th>StockCode</th>\n",
       "      <th>Description</th>\n",
       "      <th>Quantity</th>\n",
       "      <th>CustomerID</th>\n",
       "      <th>Country</th>\n",
       "      <th>first_2_CID</th>\n",
       "      <th>InvoiceDateO</th>\n",
       "    </tr>\n",
       "  </thead>\n",
       "  <tbody>\n",
       "    <tr>\n",
       "      <th>count</th>\n",
       "      <td>122049.000000</td>\n",
       "      <td>122049.000000</td>\n",
       "      <td>122049.000000</td>\n",
       "      <td>122049.000000</td>\n",
       "      <td>122049.000000</td>\n",
       "      <td>122049.000000</td>\n",
       "      <td>122049.000000</td>\n",
       "      <td>122049.000000</td>\n",
       "    </tr>\n",
       "    <tr>\n",
       "      <th>mean</th>\n",
       "      <td>9940.419692</td>\n",
       "      <td>1572.955788</td>\n",
       "      <td>2026.412744</td>\n",
       "      <td>12.867201</td>\n",
       "      <td>15286.445256</td>\n",
       "      <td>32.836795</td>\n",
       "      <td>14.785766</td>\n",
       "      <td>734327.734426</td>\n",
       "    </tr>\n",
       "    <tr>\n",
       "      <th>std</th>\n",
       "      <td>5554.116349</td>\n",
       "      <td>845.106082</td>\n",
       "      <td>1087.697388</td>\n",
       "      <td>54.143504</td>\n",
       "      <td>1711.887591</td>\n",
       "      <td>6.726816</td>\n",
       "      <td>1.722477</td>\n",
       "      <td>112.906319</td>\n",
       "    </tr>\n",
       "    <tr>\n",
       "      <th>min</th>\n",
       "      <td>0.000000</td>\n",
       "      <td>0.000000</td>\n",
       "      <td>0.000000</td>\n",
       "      <td>1.000000</td>\n",
       "      <td>12347.000000</td>\n",
       "      <td>0.000000</td>\n",
       "      <td>12.000000</td>\n",
       "      <td>734107.000000</td>\n",
       "    </tr>\n",
       "    <tr>\n",
       "      <th>25%</th>\n",
       "      <td>5018.000000</td>\n",
       "      <td>937.000000</td>\n",
       "      <td>1147.000000</td>\n",
       "      <td>2.000000</td>\n",
       "      <td>13953.000000</td>\n",
       "      <td>35.000000</td>\n",
       "      <td>13.000000</td>\n",
       "      <td>734232.000000</td>\n",
       "    </tr>\n",
       "    <tr>\n",
       "      <th>50%</th>\n",
       "      <td>10311.000000</td>\n",
       "      <td>1523.000000</td>\n",
       "      <td>1987.000000</td>\n",
       "      <td>5.000000</td>\n",
       "      <td>15152.000000</td>\n",
       "      <td>35.000000</td>\n",
       "      <td>15.000000</td>\n",
       "      <td>734349.000000</td>\n",
       "    </tr>\n",
       "    <tr>\n",
       "      <th>75%</th>\n",
       "      <td>14635.000000</td>\n",
       "      <td>2106.000000</td>\n",
       "      <td>2945.000000</td>\n",
       "      <td>12.000000</td>\n",
       "      <td>16782.000000</td>\n",
       "      <td>35.000000</td>\n",
       "      <td>16.000000</td>\n",
       "      <td>734430.000000</td>\n",
       "    </tr>\n",
       "    <tr>\n",
       "      <th>max</th>\n",
       "      <td>22189.000000</td>\n",
       "      <td>3683.000000</td>\n",
       "      <td>3895.000000</td>\n",
       "      <td>9360.000000</td>\n",
       "      <td>18287.000000</td>\n",
       "      <td>36.000000</td>\n",
       "      <td>18.000000</td>\n",
       "      <td>734480.000000</td>\n",
       "    </tr>\n",
       "  </tbody>\n",
       "</table>\n",
       "</div>"
      ],
      "text/plain": [
       "           InvoiceNo      StockCode    Description       Quantity  \\\n",
       "count  122049.000000  122049.000000  122049.000000  122049.000000   \n",
       "mean     9940.419692    1572.955788    2026.412744      12.867201   \n",
       "std      5554.116349     845.106082    1087.697388      54.143504   \n",
       "min         0.000000       0.000000       0.000000       1.000000   \n",
       "25%      5018.000000     937.000000    1147.000000       2.000000   \n",
       "50%     10311.000000    1523.000000    1987.000000       5.000000   \n",
       "75%     14635.000000    2106.000000    2945.000000      12.000000   \n",
       "max     22189.000000    3683.000000    3895.000000    9360.000000   \n",
       "\n",
       "          CustomerID        Country    first_2_CID   InvoiceDateO  \n",
       "count  122049.000000  122049.000000  122049.000000  122049.000000  \n",
       "mean    15286.445256      32.836795      14.785766  734327.734426  \n",
       "std      1711.887591       6.726816       1.722477     112.906319  \n",
       "min     12347.000000       0.000000      12.000000  734107.000000  \n",
       "25%     13953.000000      35.000000      13.000000  734232.000000  \n",
       "50%     15152.000000      35.000000      15.000000  734349.000000  \n",
       "75%     16782.000000      35.000000      16.000000  734430.000000  \n",
       "max     18287.000000      36.000000      18.000000  734480.000000  "
      ]
     },
     "execution_count": 29,
     "metadata": {},
     "output_type": "execute_result"
    }
   ],
   "source": [
    "df1.describe()"
   ]
  },
  {
   "cell_type": "code",
   "execution_count": 30,
   "metadata": {},
   "outputs": [
    {
     "name": "stdout",
     "output_type": "stream",
     "text": [
      "<class 'pandas.core.frame.DataFrame'>\n",
      "RangeIndex: 122049 entries, 0 to 122048\n",
      "Data columns (total 9 columns):\n",
      "InvoiceNo       122049 non-null int64\n",
      "StockCode       122049 non-null int64\n",
      "Description     122049 non-null int64\n",
      "Quantity        122049 non-null int64\n",
      "InvoiceDate     122049 non-null datetime64[ns]\n",
      "CustomerID      122049 non-null float64\n",
      "Country         122049 non-null int64\n",
      "first_2_CID     122049 non-null int64\n",
      "InvoiceDateO    122049 non-null int64\n",
      "dtypes: datetime64[ns](1), float64(1), int64(7)\n",
      "memory usage: 8.4 MB\n"
     ]
    }
   ],
   "source": [
    "df1.info()"
   ]
  },
  {
   "cell_type": "markdown",
   "metadata": {},
   "source": [
    "# EDA"
   ]
  },
  {
   "cell_type": "code",
   "execution_count": 31,
   "metadata": {},
   "outputs": [
    {
     "data": {
      "text/html": [
       "<div>\n",
       "<style scoped>\n",
       "    .dataframe tbody tr th:only-of-type {\n",
       "        vertical-align: middle;\n",
       "    }\n",
       "\n",
       "    .dataframe tbody tr th {\n",
       "        vertical-align: top;\n",
       "    }\n",
       "\n",
       "    .dataframe thead th {\n",
       "        text-align: right;\n",
       "    }\n",
       "</style>\n",
       "<table border=\"1\" class=\"dataframe\">\n",
       "  <thead>\n",
       "    <tr style=\"text-align: right;\">\n",
       "      <th></th>\n",
       "      <th>InvoiceNo</th>\n",
       "      <th>StockCode</th>\n",
       "      <th>Description</th>\n",
       "      <th>Quantity</th>\n",
       "      <th>UnitPrice</th>\n",
       "      <th>CustomerID</th>\n",
       "      <th>Country</th>\n",
       "      <th>first_2_CID</th>\n",
       "      <th>InvoiceDateO</th>\n",
       "    </tr>\n",
       "  </thead>\n",
       "  <tbody>\n",
       "    <tr>\n",
       "      <th>InvoiceNo</th>\n",
       "      <td>1.000000</td>\n",
       "      <td>0.086655</td>\n",
       "      <td>0.024443</td>\n",
       "      <td>0.002228</td>\n",
       "      <td>0.013038</td>\n",
       "      <td>-0.007367</td>\n",
       "      <td>0.005275</td>\n",
       "      <td>-0.008902</td>\n",
       "      <td>0.941553</td>\n",
       "    </tr>\n",
       "    <tr>\n",
       "      <th>StockCode</th>\n",
       "      <td>0.086655</td>\n",
       "      <td>1.000000</td>\n",
       "      <td>-0.013278</td>\n",
       "      <td>0.002156</td>\n",
       "      <td>0.043292</td>\n",
       "      <td>0.003349</td>\n",
       "      <td>0.006330</td>\n",
       "      <td>0.003351</td>\n",
       "      <td>0.085115</td>\n",
       "    </tr>\n",
       "    <tr>\n",
       "      <th>Description</th>\n",
       "      <td>0.024443</td>\n",
       "      <td>-0.013278</td>\n",
       "      <td>1.000000</td>\n",
       "      <td>0.000794</td>\n",
       "      <td>-0.001653</td>\n",
       "      <td>-0.005036</td>\n",
       "      <td>-0.014644</td>\n",
       "      <td>-0.005748</td>\n",
       "      <td>0.027387</td>\n",
       "    </tr>\n",
       "    <tr>\n",
       "      <th>Quantity</th>\n",
       "      <td>0.002228</td>\n",
       "      <td>0.002156</td>\n",
       "      <td>0.000794</td>\n",
       "      <td>1.000000</td>\n",
       "      <td>-0.002579</td>\n",
       "      <td>-0.004713</td>\n",
       "      <td>-0.006750</td>\n",
       "      <td>-0.004311</td>\n",
       "      <td>-0.001218</td>\n",
       "    </tr>\n",
       "    <tr>\n",
       "      <th>UnitPrice</th>\n",
       "      <td>0.013038</td>\n",
       "      <td>0.043292</td>\n",
       "      <td>-0.001653</td>\n",
       "      <td>-0.002579</td>\n",
       "      <td>1.000000</td>\n",
       "      <td>-0.012987</td>\n",
       "      <td>-0.016252</td>\n",
       "      <td>-0.012741</td>\n",
       "      <td>-0.003317</td>\n",
       "    </tr>\n",
       "    <tr>\n",
       "      <th>CustomerID</th>\n",
       "      <td>-0.007367</td>\n",
       "      <td>0.003349</td>\n",
       "      <td>-0.005036</td>\n",
       "      <td>-0.004713</td>\n",
       "      <td>-0.012987</td>\n",
       "      <td>1.000000</td>\n",
       "      <td>0.388989</td>\n",
       "      <td>0.985823</td>\n",
       "      <td>-0.002617</td>\n",
       "    </tr>\n",
       "    <tr>\n",
       "      <th>Country</th>\n",
       "      <td>0.005275</td>\n",
       "      <td>0.006330</td>\n",
       "      <td>-0.014644</td>\n",
       "      <td>-0.006750</td>\n",
       "      <td>-0.016252</td>\n",
       "      <td>0.388989</td>\n",
       "      <td>1.000000</td>\n",
       "      <td>0.407112</td>\n",
       "      <td>0.006856</td>\n",
       "    </tr>\n",
       "    <tr>\n",
       "      <th>first_2_CID</th>\n",
       "      <td>-0.008902</td>\n",
       "      <td>0.003351</td>\n",
       "      <td>-0.005748</td>\n",
       "      <td>-0.004311</td>\n",
       "      <td>-0.012741</td>\n",
       "      <td>0.985823</td>\n",
       "      <td>0.407112</td>\n",
       "      <td>1.000000</td>\n",
       "      <td>-0.004325</td>\n",
       "    </tr>\n",
       "    <tr>\n",
       "      <th>InvoiceDateO</th>\n",
       "      <td>0.941553</td>\n",
       "      <td>0.085115</td>\n",
       "      <td>0.027387</td>\n",
       "      <td>-0.001218</td>\n",
       "      <td>-0.003317</td>\n",
       "      <td>-0.002617</td>\n",
       "      <td>0.006856</td>\n",
       "      <td>-0.004325</td>\n",
       "      <td>1.000000</td>\n",
       "    </tr>\n",
       "  </tbody>\n",
       "</table>\n",
       "</div>"
      ],
      "text/plain": [
       "              InvoiceNo  StockCode  Description  Quantity  UnitPrice  \\\n",
       "InvoiceNo      1.000000   0.086655     0.024443  0.002228   0.013038   \n",
       "StockCode      0.086655   1.000000    -0.013278  0.002156   0.043292   \n",
       "Description    0.024443  -0.013278     1.000000  0.000794  -0.001653   \n",
       "Quantity       0.002228   0.002156     0.000794  1.000000  -0.002579   \n",
       "UnitPrice      0.013038   0.043292    -0.001653 -0.002579   1.000000   \n",
       "CustomerID    -0.007367   0.003349    -0.005036 -0.004713  -0.012987   \n",
       "Country        0.005275   0.006330    -0.014644 -0.006750  -0.016252   \n",
       "first_2_CID   -0.008902   0.003351    -0.005748 -0.004311  -0.012741   \n",
       "InvoiceDateO   0.941553   0.085115     0.027387 -0.001218  -0.003317   \n",
       "\n",
       "              CustomerID   Country  first_2_CID  InvoiceDateO  \n",
       "InvoiceNo      -0.007367  0.005275    -0.008902      0.941553  \n",
       "StockCode       0.003349  0.006330     0.003351      0.085115  \n",
       "Description    -0.005036 -0.014644    -0.005748      0.027387  \n",
       "Quantity       -0.004713 -0.006750    -0.004311     -0.001218  \n",
       "UnitPrice      -0.012987 -0.016252    -0.012741     -0.003317  \n",
       "CustomerID      1.000000  0.388989     0.985823     -0.002617  \n",
       "Country         0.388989  1.000000     0.407112      0.006856  \n",
       "first_2_CID     0.985823  0.407112     1.000000     -0.004325  \n",
       "InvoiceDateO   -0.002617  0.006856    -0.004325      1.000000  "
      ]
     },
     "execution_count": 31,
     "metadata": {},
     "output_type": "execute_result"
    }
   ],
   "source": [
    "\n",
    "df.corr() "
   ]
  },
  {
   "cell_type": "markdown",
   "metadata": {},
   "source": [
    "linear correlation is very less w.r.t unitprice with every variable so there could be a \n",
    "non linear correlation"
   ]
  },
  {
   "cell_type": "code",
   "execution_count": 32,
   "metadata": {},
   "outputs": [
    {
     "data": {
      "text/plain": [
       "SpearmanrResult(correlation=-0.41419153314474627, pvalue=0.0)"
      ]
     },
     "execution_count": 32,
     "metadata": {},
     "output_type": "execute_result"
    }
   ],
   "source": [
    "from scipy.stats import spearmanr, pearsonr\n",
    "spearmanr(df['UnitPrice'], df['Quantity']) "
   ]
  },
  {
   "cell_type": "markdown",
   "metadata": {},
   "source": [
    "unit price and quantity has high non linear correlation"
   ]
  },
  {
   "cell_type": "code",
   "execution_count": 33,
   "metadata": {},
   "outputs": [
    {
     "data": {
      "text/plain": [
       "<matplotlib.axes._subplots.AxesSubplot at 0x28a1f9e2a90>"
      ]
     },
     "execution_count": 33,
     "metadata": {},
     "output_type": "execute_result"
    },
    {
     "data": {
      "image/png": "[encoded data removed]",
      "text/plain": [
       "<Figure size 432x288 with 1 Axes>"
      ]
     },
     "metadata": {
      "needs_background": "light"
     },
     "output_type": "display_data"
    }
   ],
   "source": [
    "sns.scatterplot(x=\"Country\",y=\"UnitPrice\",data=df)  "
   ]
  },
  {
   "cell_type": "markdown",
   "metadata": {},
   "source": [
    "in country 35 ,14 and 30 there are comparatively high unit price"
   ]
  },
  {
   "cell_type": "code",
   "execution_count": 34,
   "metadata": {},
   "outputs": [
    {
     "data": {
      "text/plain": [
       "<matplotlib.axes._subplots.AxesSubplot at 0x28a1fd3fa20>"
      ]
     },
     "execution_count": 34,
     "metadata": {},
     "output_type": "execute_result"
    },
    {
     "data": {
      "image/png": "[encoded data removed]",
      "text/plain": [
       "<Figure size 432x288 with 1 Axes>"
      ]
     },
     "metadata": {
      "needs_background": "light"
     },
     "output_type": "display_data"
    }
   ],
   "source": [
    "sns.scatterplot(x=\"CustomerID\",y=\"UnitPrice\",data=df) "
   ]
  },
  {
   "cell_type": "markdown",
   "metadata": {},
   "source": [
    "low customer id has also high unit price with low prices"
   ]
  },
  {
   "cell_type": "code",
   "execution_count": 35,
   "metadata": {},
   "outputs": [
    {
     "data": {
      "text/plain": [
       "<matplotlib.axes._subplots.AxesSubplot at 0x28a1fd0d358>"
      ]
     },
     "execution_count": 35,
     "metadata": {},
     "output_type": "execute_result"
    },
    {
     "data": {
      "image/png": "[encoded data removed]",
      "text/plain": [
       "<Figure size 432x288 with 1 Axes>"
      ]
     },
     "metadata": {
      "needs_background": "light"
     },
     "output_type": "display_data"
    }
   ],
   "source": [
    "sns.scatterplot(x=\"StockCode\",y=\"UnitPrice\",data=df)"
   ]
  },
  {
   "cell_type": "markdown",
   "metadata": {},
   "source": [
    "3700 or 3800 has also high unit price with low unitprice"
   ]
  },
  {
   "cell_type": "markdown",
   "metadata": {},
   "source": [
    "# Data Processing"
   ]
  },
  {
   "cell_type": "code",
   "execution_count": 36,
   "metadata": {},
   "outputs": [
    {
     "data": {
      "text/plain": [
       "Index(['InvoiceNo', 'StockCode', 'Description', 'Quantity', 'InvoiceDate',\n",
       "       'CustomerID', 'Country', 'first_2_CID', 'InvoiceDateO'],\n",
       "      dtype='object')"
      ]
     },
     "execution_count": 36,
     "metadata": {},
     "output_type": "execute_result"
    }
   ],
   "source": [
    "df1.columns"
   ]
  },
  {
   "cell_type": "code",
   "execution_count": 37,
   "metadata": {},
   "outputs": [],
   "source": [
    "X_train=df[['InvoiceDateO','Quantity','StockCode', 'Description','Country','first_2_CID']]\n",
    "y_train=df1[['InvoiceDateO','Quantity','StockCode', 'Description',  'Country', 'first_2_CID']]\n",
    "X_test=df['UnitPrice'].values"
   ]
  },
  {
   "cell_type": "code",
   "execution_count": 38,
   "metadata": {},
   "outputs": [
    {
     "name": "stderr",
     "output_type": "stream",
     "text": [
      "C:\\Users\\Lenovo\\Anaconda3\\lib\\site-packages\\sklearn\\preprocessing\\data.py:334: DataConversionWarning: Data with input dtype int64 were all converted to float64 by MinMaxScaler.\n",
      "  return self.partial_fit(X, y)\n",
      "C:\\Users\\Lenovo\\Anaconda3\\lib\\site-packages\\sklearn\\preprocessing\\data.py:334: DataConversionWarning: Data with input dtype int64 were all converted to float64 by MinMaxScaler.\n",
      "  return self.partial_fit(X, y)\n"
     ]
    }
   ],
   "source": [
    "from sklearn.preprocessing import MinMaxScaler\n",
    "sc = MinMaxScaler()\n",
    "X_train = sc.fit_transform(X_train)\n",
    "y_train = sc.fit_transform(y_train)\n",
    "#X_test = sc.transform(X_test)"
   ]
  },
  {
   "cell_type": "markdown",
   "metadata": {},
   "source": [
    "# ML Algorithms"
   ]
  },
  {
   "cell_type": "markdown",
   "metadata": {},
   "source": [
    " ### Compared all algorithm and got extra trees regressor with high accuracy as they use all their data in making trees                   "
   ]
  },
  {
   "cell_type": "markdown",
   "metadata": {},
   "source": [
    "### you can see the algorithm in the apendix"
   ]
  },
  {
   "cell_type": "code",
   "execution_count": 40,
   "metadata": {},
   "outputs": [
    {
     "data": {
      "text/plain": [
       "-735.3218893648645"
      ]
     },
     "execution_count": 40,
     "metadata": {},
     "output_type": "execute_result"
    }
   ],
   "source": [
    "from sklearn.ensemble import ExtraTreesRegressor\n",
    "from sklearn.model_selection import cross_val_score\n",
    "extra1=ExtraTreesRegressor(max_depth=200,\n",
    "  n_estimators=200)\n",
    "extra1.fit(X_train,X_test)\n",
    "np.mean(cross_val_score(extra1,X_train,X_test,scoring = 'neg_mean_squared_error', cv= 3))#36.9 #7.5569158 #.3212 #7.55609"
   ]
  },
  {
   "cell_type": "code",
   "execution_count": 42,
   "metadata": {},
   "outputs": [],
   "source": [
    "results = extra1.predict(y_train)"
   ]
  },
  {
   "cell_type": "code",
   "execution_count": 43,
   "metadata": {},
   "outputs": [],
   "source": [
    "df1['UnitPrice']=results"
   ]
  },
  {
   "cell_type": "code",
   "execution_count": 44,
   "metadata": {},
   "outputs": [],
   "source": [
    "df1['UnitPrice'].to_csv(\"Submission_Final.csv\",header=True,index=False)"
   ]
  },
  {
   "cell_type": "markdown",
   "metadata": {},
   "source": [
    "### Used genetic algorithm for optimization for extra tree"
   ]
  },
  {
   "cell_type": "code",
   "execution_count": null,
   "metadata": {},
   "outputs": [],
   "source": [
    "#from tpot import TPOTRegressor\n",
    "\n",
    "\n",
    "#tpot_classifier = TPOTRegressor(generations= 5, population_size= 24, offspring_size= 12,\n",
    "#                                 verbosity= 2, early_stop= 12,\n",
    "#                                 config_dict={'sklearn.ensemble.ExtraTreesRegressor': param}, \n",
    "#                                 cv = 2)\n",
    "#tpot_classifier.fit(X_train,X_test)"
   ]
  },
  {
   "cell_type": "code",
   "execution_count": null,
   "metadata": {},
   "outputs": [],
   "source": [
    "#results=tpot_classifier.predict(y_train)"
   ]
  },
  {
   "cell_type": "code",
   "execution_count": null,
   "metadata": {},
   "outputs": [],
   "source": [
    "#tpot_classifier.fitted_pipeline_"
   ]
  },
  {
   "cell_type": "code",
   "execution_count": null,
   "metadata": {},
   "outputs": [],
   "source": [
    "#tpot.score(X_train, X_test)"
   ]
  },
  {
   "cell_type": "code",
   "execution_count": null,
   "metadata": {},
   "outputs": [],
   "source": [
    "#tpot.export(path_to_pipeline)\n",
    "#pickle.dump(tpot.fitted_pipeline_, open(file_name, ‘wb’))\n",
    "#import pickle\n",
    "#tpot.score(X_train, X_test)\n",
    "#pickle.dump(tpot.fitted_pipeline_, open(\"tpot.pkl\", \"wb\"))\n",
    "#tpot.export(\"tpot.py\")\n",
    "#tpot.export()"
   ]
  },
  {
   "cell_type": "markdown",
   "metadata": {},
   "source": [
    "# Appendix"
   ]
  },
  {
   "cell_type": "code",
   "execution_count": 821,
   "metadata": {},
   "outputs": [
    {
     "data": {
      "text/plain": [
       "12.204171627459257"
      ]
     },
     "execution_count": 821,
     "metadata": {},
     "output_type": "execute_result"
    }
   ],
   "source": [
    "from sklearn.neighbors import KNeighborsRegressor\n",
    "classifier = KNeighborsRegressor(n_neighbors = 1, metric = 'minkowski', p = 2)\n",
    "classifier.fit(X_train, X_test)\n",
    "y_pred=classifier.predict(X_train)\n",
    "from sklearn.metrics import mean_squared_error\n",
    "np.sqrt(mean_squared_error(X_test,y_pred))#36.9"
   ]
  },
  {
   "cell_type": "code",
   "execution_count": null,
   "metadata": {
    "scrolled": true
   },
   "outputs": [],
   "source": [
    "from catboost import CatBoostRegressor\n",
    "from sklearn.model_selection import cross_val_score\n",
    "model = CatBoostRegressor(\n",
    "max_depth=10,\n",
    "        n_estimators=100,\n",
    "        learning_rate=1)\n",
    "model.fit( X_train,X_test, use_best_model=True, silent=True )\n",
    "y_pred=model.predict(X_train)\n",
    "from sklearn.metrics import mean_squared_error\n",
    "np.sqrt(mean_squared_error(X_test,y_pred))#36.9"
   ]
  },
  {
   "cell_type": "code",
   "execution_count": null,
   "metadata": {},
   "outputs": [],
   "source": [
    "from sklearn.tree import DecisionTreeRegressor\n",
    "from sklearn.model_selection import cross_val_score\n",
    "Regressor = DecisionTreeRegressor(criterion='mse')\n",
    "Regressor.fit(X_train, X_test)\n",
    "np.mean(cross_val_score(Regressor,X_train,X_test, scoring = 'neg_mean_squared_error', cv= 3)) #145.88"
   ]
  },
  {
   "cell_type": "code",
   "execution_count": null,
   "metadata": {},
   "outputs": [],
   "source": [
    "y_pred=Regressor.predict(X_train)\n",
    "from sklearn.metrics import mean_squared_error\n",
    "mean_squared_error(X_test,y_pred)"
   ]
  },
  {
   "cell_type": "code",
   "execution_count": 1553,
   "metadata": {},
   "outputs": [
    {
     "data": {
      "text/plain": [
       "8.649960678705822"
      ]
     },
     "execution_count": 1553,
     "metadata": {},
     "output_type": "execute_result"
    }
   ],
   "source": [
    "from sklearn.ensemble import RandomForestRegressor\n",
    "rf =  RandomForestRegressor(300)\n",
    "rf.fit(X_train, X_test)\n",
    "#np.mean(cross_val_score(rf,X_train,X_test,scoring = 'neg_mean_squared_error', cv= 3)) #124\n",
    "y_pred=rf.predict(X_train)\n",
    "from sklearn.metrics import mean_squared_error\n",
    "np.sqrt(mean_squared_error(X_test,y_pred))#36.9"
   ]
  },
  {
   "cell_type": "code",
   "execution_count": null,
   "metadata": {},
   "outputs": [],
   "source": [
    "from sklearn.linear_model import LinearRegression\n",
    "clf = LinearRegression().fit(X_train, X_test)\n",
    "y_pred=rf.predict(X_train)\n",
    "from sklearn.metrics import mean_squared_error\n",
    "np.sqrt(mean_squared_error(X_test,y_pred))#36.9"
   ]
  },
  {
   "cell_type": "code",
   "execution_count": 327,
   "metadata": {},
   "outputs": [
    {
     "data": {
      "text/plain": [
       "[<matplotlib.lines.Line2D at 0x153141d7bc8>]"
      ]
     },
     "execution_count": 327,
     "metadata": {},
     "output_type": "execute_result"
    },
    {
     "data": {
      "image/png": "[encoded data removed]",
      "text/plain": [
       "<Figure size 432x288 with 1 Axes>"
      ]
     },
     "metadata": {
      "needs_background": "light"
     },
     "output_type": "display_data"
    }
   ],
   "source": [
    "from sklearn.linear_model import LinearRegression, Lasso, Ridge\n",
    "alpha = []\n",
    "error = []\n",
    "\n",
    "for i in range(1,1000):\n",
    "    alpha.append(i/1)\n",
    "    lml = Lasso(alpha=(i/1))\n",
    "    error.append(np.mean(cross_val_score(lml,X_train,X_test, scoring = 'neg_mean_absolute_error', cv= 3)))\n",
    "    \n",
    "plt.plot(alpha,error)"
   ]
  },
  {
   "cell_type": "code",
   "execution_count": 328,
   "metadata": {},
   "outputs": [
    {
     "data": {
      "text/html": [
       "<div>\n",
       "<style scoped>\n",
       "    .dataframe tbody tr th:only-of-type {\n",
       "        vertical-align: middle;\n",
       "    }\n",
       "\n",
       "    .dataframe tbody tr th {\n",
       "        vertical-align: top;\n",
       "    }\n",
       "\n",
       "    .dataframe thead th {\n",
       "        text-align: right;\n",
       "    }\n",
       "</style>\n",
       "<table border=\"1\" class=\"dataframe\">\n",
       "  <thead>\n",
       "    <tr style=\"text-align: right;\">\n",
       "      <th></th>\n",
       "      <th>alpha</th>\n",
       "      <th>error</th>\n",
       "    </tr>\n",
       "  </thead>\n",
       "  <tbody>\n",
       "    <tr>\n",
       "      <td>580</td>\n",
       "      <td>581.0</td>\n",
       "      <td>-2.594559</td>\n",
       "    </tr>\n",
       "  </tbody>\n",
       "</table>\n",
       "</div>"
      ],
      "text/plain": [
       "     alpha     error\n",
       "580  581.0 -2.594559"
      ]
     },
     "execution_count": 328,
     "metadata": {},
     "output_type": "execute_result"
    }
   ],
   "source": [
    "err = tuple(zip(alpha,error))\n",
    "df_err = pd.DataFrame(err, columns = ['alpha','error'])\n",
    "df_err[df_err.error == max(df_err.error)]"
   ]
  },
  {
   "cell_type": "code",
   "execution_count": 331,
   "metadata": {},
   "outputs": [
    {
     "data": {
      "text/plain": [
       "24.217168519242637"
      ]
     },
     "execution_count": 331,
     "metadata": {},
     "output_type": "execute_result"
    }
   ],
   "source": [
    "lm_l = Lasso(alpha=581.0)\n",
    "lm_l.fit(X_train,X_test)\n",
    "y_pred=lm_l.predict(X_train)\n",
    "from sklearn.metrics import mean_squared_error\n",
    "np.sqrt(mean_squared_error(X_test,y_pred))"
   ]
  },
  {
   "cell_type": "code",
   "execution_count": 866,
   "metadata": {},
   "outputs": [
    {
     "name": "stderr",
     "output_type": "stream",
     "text": [
      "C:\\Users\\Lenovo\\Anaconda3\\lib\\site-packages\\dask\\config.py:168: YAMLLoadWarning: calling yaml.load() without Loader=... is deprecated, as the default Loader is unsafe. Please read https://msg.pyyaml.org/load for full details.\n",
      "  data = yaml.load(f.read()) or {}\n",
      "C:\\Users\\Lenovo\\Anaconda3\\lib\\site-packages\\distributed\\config.py:20: YAMLLoadWarning: calling yaml.load() without Loader=... is deprecated, as the default Loader is unsafe. Please read https://msg.pyyaml.org/load for full details.\n",
      "  defaults = yaml.load(f)\n"
     ]
    }
   ],
   "source": [
    "from xgboost import XGBRegressor"
   ]
  },
  {
   "cell_type": "code",
   "execution_count": 1551,
   "metadata": {},
   "outputs": [
    {
     "name": "stdout",
     "output_type": "stream",
     "text": [
      "[03:01:58] WARNING: C:/Jenkins/workspace/xgboost-win64_release_0.90/src/objective/regression_obj.cu:152: reg:linear is now deprecated in favor of reg:squarederror.\n"
     ]
    },
    {
     "data": {
      "text/plain": [
       "7.556862321456214"
      ]
     },
     "execution_count": 1551,
     "metadata": {},
     "output_type": "execute_result"
    }
   ],
   "source": [
    "from xgboost import XGBRegressor\n",
    "from sklearn.model_selection import cross_val_score\n",
    "model = XGBRegressor(  \n",
    "        max_depth=100,\n",
    "        n_estimators=200,\n",
    "        learning_rate=1.5,bootstrap=False\n",
    "        )\n",
    "model.fit(X_train, X_test)\n",
    "#np.mean(cross_val_score(model,X_train,X_test,scoring = 'neg_mean_squared_error', cv= 3)) #103\n",
    "#max_depth=6, min_child_weight=3, nthread=1,objective='reg:squarederror', subsample=0.8\n",
    "y_pred=model.predict(X_train)\n",
    "from sklearn.metrics import mean_squared_error\n",
    "np.sqrt(mean_squared_error(X_test,y_pred)) #6.4 #5.769 #33.5295 #57.106 #7.556915879158611"
   ]
  },
  {
   "cell_type": "code",
   "execution_count": null,
   "metadata": {},
   "outputs": [],
   "source": [
    "from sklearn.ensemble import AdaBoostRegressor\n",
    "classifier = AdaBoostRegressor( \n",
    "        n_estimators=100,\n",
    "        learning_rate=1)\n",
    "classifier.fit(X_train, X_test)\n",
    "#np.mean(cross_val_score(classifier,X_train,X_test,scoring = 'neg_mean_squared_error', cv= 3))\n",
    "y_pred=classifier.predict(X_train)\n",
    "from sklearn.metrics import mean_squared_error\n",
    "np.sqrt(mean_squared_error(X_test,y_pred))"
   ]
  },
  {
   "cell_type": "code",
   "execution_count": 41,
   "metadata": {},
   "outputs": [
    {
     "data": {
      "text/plain": [
       "7.556915879158611"
      ]
     },
     "execution_count": 41,
     "metadata": {},
     "output_type": "execute_result"
    }
   ],
   "source": [
    "from sklearn.ensemble import GradientBoostingRegressor\n",
    "gb_clf = GradientBoostingRegressor(\n",
    "        max_depth=20,\n",
    "        n_estimators=100,\n",
    "        learning_rate=1)\n",
    "gb_clf.fit(X_train, X_test)\n",
    "#np.mean(cross_val_score(gb_clf,X_train,X_test,scoring = 'neg_mean_squared_error', cv= 3))\n",
    "y_pred=gb_clf.predict(X_train)\n",
    "from sklearn.metrics import mean_squared_error\n",
    "np.sqrt(mean_squared_error(X_test,y_pred))"
   ]
  },
  {
   "cell_type": "code",
   "execution_count": 350,
   "metadata": {},
   "outputs": [
    {
     "name": "stderr",
     "output_type": "stream",
     "text": [
      "D:\\New folder (2)\\lib\\site-packages\\lightgbm\\engine.py:148: UserWarning: Found `num_iterations` in params. Will use it instead of argument\n",
      "  warnings.warn(\"Found `{}` in params. Will use it instead of argument\".format(alias))\n"
     ]
    },
    {
     "name": "stdout",
     "output_type": "stream",
     "text": [
      "[1]\ttraining's l1: 2.23495\ttraining's l2: 509.034\ttraining's auc: 0.463572\n",
      "Training until validation scores don't improve for 100 rounds\n",
      "[2]\ttraining's l1: 2.12756\ttraining's l2: 467.537\ttraining's auc: 0.46106\n",
      "[3]\ttraining's l1: 1.99047\ttraining's l2: 408.886\ttraining's auc: 0.423302\n",
      "[4]\ttraining's l1: 1.96458\ttraining's l2: 384.363\ttraining's auc: 0.416476\n",
      "[5]\ttraining's l1: 1.87465\ttraining's l2: 357.001\ttraining's auc: 0.442876\n",
      "[6]\ttraining's l1: 1.85247\ttraining's l2: 338.982\ttraining's auc: 0.422545\n",
      "[7]\ttraining's l1: 1.80203\ttraining's l2: 322.213\ttraining's auc: 0.452998\n",
      "[8]\ttraining's l1: 1.78355\ttraining's l2: 317.111\ttraining's auc: 0.450421\n",
      "[9]\ttraining's l1: 1.79297\ttraining's l2: 307.1\ttraining's auc: 0.445332\n",
      "[10]\ttraining's l1: 1.78087\ttraining's l2: 304.408\ttraining's auc: 0.443411\n",
      "[11]\ttraining's l1: 1.75132\ttraining's l2: 290.739\ttraining's auc: 0.415779\n",
      "[12]\ttraining's l1: 1.72815\ttraining's l2: 282.841\ttraining's auc: 0.407517\n",
      "[13]\ttraining's l1: 1.73149\ttraining's l2: 272.916\ttraining's auc: 0.416326\n",
      "[14]\ttraining's l1: 1.70968\ttraining's l2: 267.113\ttraining's auc: 0.414649\n",
      "[15]\ttraining's l1: 1.70288\ttraining's l2: 265.193\ttraining's auc: 0.411802\n",
      "[16]\ttraining's l1: 1.69753\ttraining's l2: 264.254\ttraining's auc: 0.409838\n",
      "[17]\ttraining's l1: 1.69444\ttraining's l2: 258.928\ttraining's auc: 0.412946\n",
      "[18]\ttraining's l1: 1.69324\ttraining's l2: 254.536\ttraining's auc: 0.401845\n",
      "[19]\ttraining's l1: 1.68518\ttraining's l2: 254.777\ttraining's auc: 0.424259\n",
      "[20]\ttraining's l1: 1.68129\ttraining's l2: 251.358\ttraining's auc: 0.422704\n",
      "[21]\ttraining's l1: 1.65572\ttraining's l2: 248.291\ttraining's auc: 0.424444\n",
      "[22]\ttraining's l1: 1.6619\ttraining's l2: 246.318\ttraining's auc: 0.424415\n",
      "[23]\ttraining's l1: 1.64371\ttraining's l2: 242.994\ttraining's auc: 0.422282\n",
      "[24]\ttraining's l1: 1.62167\ttraining's l2: 243.571\ttraining's auc: 0.427261\n",
      "[25]\ttraining's l1: 1.60893\ttraining's l2: 243.024\ttraining's auc: 0.427317\n",
      "[26]\ttraining's l1: 1.60481\ttraining's l2: 238.617\ttraining's auc: 0.423966\n",
      "[27]\ttraining's l1: 1.60646\ttraining's l2: 237.016\ttraining's auc: 0.424344\n",
      "[28]\ttraining's l1: 1.6013\ttraining's l2: 233.908\ttraining's auc: 0.422634\n",
      "[29]\ttraining's l1: 1.58923\ttraining's l2: 230.234\ttraining's auc: 0.398116\n",
      "[30]\ttraining's l1: 1.59222\ttraining's l2: 229.461\ttraining's auc: 0.402191\n",
      "[31]\ttraining's l1: 1.58126\ttraining's l2: 220.052\ttraining's auc: 0.422258\n",
      "[32]\ttraining's l1: 1.56863\ttraining's l2: 217.84\ttraining's auc: 0.421339\n",
      "[33]\ttraining's l1: 1.56312\ttraining's l2: 213.084\ttraining's auc: 0.419828\n",
      "[34]\ttraining's l1: 1.55281\ttraining's l2: 205.053\ttraining's auc: 0.419041\n",
      "[35]\ttraining's l1: 1.54395\ttraining's l2: 201.499\ttraining's auc: 0.420317\n",
      "[36]\ttraining's l1: 1.53941\ttraining's l2: 200.57\ttraining's auc: 0.419223\n",
      "[37]\ttraining's l1: 1.5448\ttraining's l2: 195.435\ttraining's auc: 0.393465\n",
      "[38]\ttraining's l1: 1.53062\ttraining's l2: 194.303\ttraining's auc: 0.401481\n",
      "[39]\ttraining's l1: 1.52842\ttraining's l2: 191.299\ttraining's auc: 0.39928\n",
      "[40]\ttraining's l1: 1.52611\ttraining's l2: 191.005\ttraining's auc: 0.398059\n",
      "[41]\ttraining's l1: 1.51472\ttraining's l2: 183.048\ttraining's auc: 0.408066\n",
      "[42]\ttraining's l1: 1.53308\ttraining's l2: 177.225\ttraining's auc: 0.423842\n",
      "[43]\ttraining's l1: 1.53825\ttraining's l2: 173.614\ttraining's auc: 0.391782\n",
      "[44]\ttraining's l1: 1.52941\ttraining's l2: 171.853\ttraining's auc: 0.38115\n",
      "[45]\ttraining's l1: 1.52636\ttraining's l2: 167.411\ttraining's auc: 0.409495\n",
      "[46]\ttraining's l1: 1.52131\ttraining's l2: 163.722\ttraining's auc: 0.384482\n",
      "[47]\ttraining's l1: 1.51761\ttraining's l2: 162.747\ttraining's auc: 0.380854\n",
      "[48]\ttraining's l1: 1.50631\ttraining's l2: 160.259\ttraining's auc: 0.374507\n",
      "[49]\ttraining's l1: 1.49861\ttraining's l2: 158.601\ttraining's auc: 0.397259\n",
      "[50]\ttraining's l1: 1.49984\ttraining's l2: 156.817\ttraining's auc: 0.398594\n",
      "[51]\ttraining's l1: 1.49106\ttraining's l2: 152\ttraining's auc: 0.388426\n",
      "[52]\ttraining's l1: 1.47971\ttraining's l2: 150.706\ttraining's auc: 0.386756\n",
      "[53]\ttraining's l1: 1.47469\ttraining's l2: 149.761\ttraining's auc: 0.380099\n",
      "[54]\ttraining's l1: 1.47723\ttraining's l2: 149.729\ttraining's auc: 0.403995\n",
      "[55]\ttraining's l1: 1.47529\ttraining's l2: 148.573\ttraining's auc: 0.392385\n",
      "[56]\ttraining's l1: 1.46969\ttraining's l2: 148.536\ttraining's auc: 0.390114\n",
      "[57]\ttraining's l1: 1.47121\ttraining's l2: 149.363\ttraining's auc: 0.401272\n",
      "[58]\ttraining's l1: 1.47636\ttraining's l2: 149.437\ttraining's auc: 0.385546\n",
      "[59]\ttraining's l1: 1.48145\ttraining's l2: 148.994\ttraining's auc: 0.394864\n",
      "[60]\ttraining's l1: 1.48561\ttraining's l2: 148.49\ttraining's auc: 0.398323\n",
      "[61]\ttraining's l1: 1.47695\ttraining's l2: 143.533\ttraining's auc: 0.397613\n",
      "[62]\ttraining's l1: 1.47923\ttraining's l2: 142.088\ttraining's auc: 0.396265\n",
      "[63]\ttraining's l1: 1.4724\ttraining's l2: 139.598\ttraining's auc: 0.397421\n",
      "[64]\ttraining's l1: 1.47495\ttraining's l2: 138.429\ttraining's auc: 0.36544\n",
      "[65]\ttraining's l1: 1.48253\ttraining's l2: 137.943\ttraining's auc: 0.370735\n",
      "[66]\ttraining's l1: 1.48212\ttraining's l2: 137.183\ttraining's auc: 0.370884\n",
      "[67]\ttraining's l1: 1.47487\ttraining's l2: 135.603\ttraining's auc: 0.369973\n",
      "[68]\ttraining's l1: 1.45967\ttraining's l2: 133.48\ttraining's auc: 0.369336\n",
      "[69]\ttraining's l1: 1.45662\ttraining's l2: 131.643\ttraining's auc: 0.373906\n",
      "[70]\ttraining's l1: 1.4508\ttraining's l2: 130.516\ttraining's auc: 0.373437\n",
      "[71]\ttraining's l1: 1.4456\ttraining's l2: 131.033\ttraining's auc: 0.374269\n",
      "[72]\ttraining's l1: 1.44151\ttraining's l2: 131.358\ttraining's auc: 0.373395\n",
      "[73]\ttraining's l1: 1.43805\ttraining's l2: 131.308\ttraining's auc: 0.373868\n",
      "[74]\ttraining's l1: 1.43844\ttraining's l2: 131.142\ttraining's auc: 0.380256\n",
      "[75]\ttraining's l1: 1.4369\ttraining's l2: 130.863\ttraining's auc: 0.386077\n",
      "[76]\ttraining's l1: 1.43547\ttraining's l2: 130.671\ttraining's auc: 0.388529\n",
      "[77]\ttraining's l1: 1.43001\ttraining's l2: 131.113\ttraining's auc: 0.389322\n",
      "[78]\ttraining's l1: 1.42982\ttraining's l2: 131.305\ttraining's auc: 0.389252\n",
      "[79]\ttraining's l1: 1.42478\ttraining's l2: 130.641\ttraining's auc: 0.393923\n",
      "[80]\ttraining's l1: 1.42312\ttraining's l2: 130.761\ttraining's auc: 0.398246\n",
      "[81]\ttraining's l1: 1.41571\ttraining's l2: 127.182\ttraining's auc: 0.397579\n",
      "[82]\ttraining's l1: 1.41817\ttraining's l2: 126.404\ttraining's auc: 0.391714\n",
      "[83]\ttraining's l1: 1.40357\ttraining's l2: 124.991\ttraining's auc: 0.392022\n",
      "[84]\ttraining's l1: 1.39623\ttraining's l2: 123.795\ttraining's auc: 0.393225\n",
      "[85]\ttraining's l1: 1.38746\ttraining's l2: 123.479\ttraining's auc: 0.390164\n",
      "[86]\ttraining's l1: 1.38659\ttraining's l2: 123.225\ttraining's auc: 0.389286\n",
      "[87]\ttraining's l1: 1.3837\ttraining's l2: 123.007\ttraining's auc: 0.38937\n",
      "[88]\ttraining's l1: 1.38288\ttraining's l2: 122.708\ttraining's auc: 0.389028\n",
      "[89]\ttraining's l1: 1.38073\ttraining's l2: 122.844\ttraining's auc: 0.38301\n",
      "[90]\ttraining's l1: 1.381\ttraining's l2: 122.662\ttraining's auc: 0.388075\n",
      "[91]\ttraining's l1: 1.38888\ttraining's l2: 121.364\ttraining's auc: 0.363363\n",
      "[92]\ttraining's l1: 1.38391\ttraining's l2: 119.848\ttraining's auc: 0.36205\n",
      "[93]\ttraining's l1: 1.38191\ttraining's l2: 117.964\ttraining's auc: 0.363522\n",
      "[94]\ttraining's l1: 1.37631\ttraining's l2: 117.044\ttraining's auc: 0.36493\n",
      "[95]\ttraining's l1: 1.36976\ttraining's l2: 116.097\ttraining's auc: 0.367675\n",
      "[96]\ttraining's l1: 1.36848\ttraining's l2: 115.844\ttraining's auc: 0.370054\n",
      "[97]\ttraining's l1: 1.36462\ttraining's l2: 115.115\ttraining's auc: 0.370443\n",
      "[98]\ttraining's l1: 1.36214\ttraining's l2: 114.565\ttraining's auc: 0.369823\n",
      "[99]\ttraining's l1: 1.35948\ttraining's l2: 114.353\ttraining's auc: 0.369904\n",
      "[100]\ttraining's l1: 1.35925\ttraining's l2: 113.987\ttraining's auc: 0.38365\n",
      "Did not meet early stopping. Best iteration is:\n",
      "[100]\ttraining's l1: 1.35925\ttraining's l2: 113.987\ttraining's auc: 0.38365\n"
     ]
    },
    {
     "name": "stderr",
     "output_type": "stream",
     "text": [
      "D:\\New folder (2)\\lib\\site-packages\\lightgbm\\engine.py:148: UserWarning: Found `num_iterations` in params. Will use it instead of argument\n",
      "  warnings.warn(\"Found `{}` in params. Will use it instead of argument\".format(alias))\n",
      "D:\\New folder (2)\\lib\\site-packages\\lightgbm\\engine.py:148: UserWarning: Found `num_iterations` in params. Will use it instead of argument\n",
      "  warnings.warn(\"Found `{}` in params. Will use it instead of argument\".format(alias))\n",
      "D:\\New folder (2)\\lib\\site-packages\\lightgbm\\engine.py:148: UserWarning: Found `num_iterations` in params. Will use it instead of argument\n",
      "  warnings.warn(\"Found `{}` in params. Will use it instead of argument\".format(alias))\n"
     ]
    },
    {
     "data": {
      "text/plain": [
       "-282.1760088951373"
      ]
     },
     "execution_count": 350,
     "metadata": {},
     "output_type": "execute_result"
    }
   ],
   "source": [
    "import lightgbm as lgb\n",
    "from sklearn.model_selection import train_test_split\n",
    "#d_train = lgb.Dataset(X_train, label=X_test)\n",
    "#X_train, X_test, y_train, y_test = train_test_split( X_train, X_test, test_size=0.2, random_state=42)\n",
    "hyper_params = {\n",
    "    'task': 'train',\n",
    "    'boosting_type': 'gbdt',\n",
    "    'objective': 'regression',\n",
    "    'metric': ['l2', 'auc'],\n",
    "    'learning_rate': 0.5,\n",
    "    'feature_fraction': 0.9,\n",
    "    'bagging_fraction': 0.7,\n",
    "    'bagging_freq': 10,\n",
    "    'verbose': 0,\n",
    "    \"max_depth\": 8,\n",
    "    \"num_leaves\": 128,  \n",
    "    \"max_bin\": 512,\n",
    "    \"num_iterations\": 100,\n",
    "    \"n_estimators\": 100\n",
    "}\n",
    "gbm = lgb.LGBMRegressor(**hyper_params)\n",
    "gbm.fit(X_train, X_test,\n",
    "        eval_set=[(X_train, X_test)],\n",
    "        eval_metric='l1',\n",
    "        early_stopping_rounds=100)\n",
    "np.mean(cross_val_score(gbm,X_train,X_test,scoring = 'neg_mean_squared_error', cv= 3)) "
   ]
  }
 ],
 "metadata": {
  "kernelspec": {
   "display_name": "Python 3",
   "language": "python",
   "name": "python3"
  },
  "language_info": {
   "codemirror_mode": {
    "name": "ipython",
    "version": 3
   },
   "file_extension": ".py",
   "mimetype": "text/x-python",
   "name": "python",
   "nbconvert_exporter": "python",
   "pygments_lexer": "ipython3",
   "version": "3.7.4"
  }
 },
 "nbformat": 4,
 "nbformat_minor": 2
}
